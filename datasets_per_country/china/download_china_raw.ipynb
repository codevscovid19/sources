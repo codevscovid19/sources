{
 "cells": [
  {
   "cell_type": "code",
   "execution_count": 43,
   "metadata": {},
   "outputs": [],
   "source": [
    "import pandas as pd\n",
    "import numpy as np"
   ]
  },
  {
   "cell_type": "code",
   "execution_count": 112,
   "metadata": {},
   "outputs": [],
   "source": [
    "# github url\n",
    "url = 'https://raw.githubusercontent.com/beoutbreakprepared/nCoV2019/master/latest_data/latestdata.csv'"
   ]
  },
  {
   "cell_type": "code",
   "execution_count": 163,
   "metadata": {
    "scrolled": false
   },
   "outputs": [],
   "source": [
    "#read data, conf. date: col_index = 12, city: col_index = 3\n",
    "df = pd.read_csv(url, index_col= None,sep=',', error_bad_lines=True)"
   ]
  },
  {
   "cell_type": "code",
   "execution_count": 164,
   "metadata": {
    "scrolled": true
   },
   "outputs": [
    {
     "name": "stdout",
     "output_type": "stream",
     "text": [
      "<class 'pandas.core.frame.DataFrame'>\n",
      "RangeIndex: 117771 entries, 0 to 117770\n",
      "Data columns (total 34 columns):\n",
      " #   Column                    Non-Null Count   Dtype  \n",
      "---  ------                    --------------   -----  \n",
      " 0   ID                        117771 non-null  object \n",
      " 1   age                       4210 non-null    object \n",
      " 2   sex                       4500 non-null    object \n",
      " 3   city                      53125 non-null   object \n",
      " 4   province                  108377 non-null  object \n",
      " 5   country                   117741 non-null  object \n",
      " 6   wuhan(0)_not_wuhan(1)     64744 non-null   float64\n",
      " 7   latitude                  114439 non-null  float64\n",
      " 8   longitude                 114439 non-null  float64\n",
      " 9   geo_resolution            114439 non-null  object \n",
      " 10  date_onset_symptoms       1078 non-null    object \n",
      " 11  date_admission_hospital   966 non-null     object \n",
      " 12  date_confirmation         116549 non-null  object \n",
      " 13  symptoms                  1048 non-null    object \n",
      " 14  lives_in_Wuhan            1894 non-null    object \n",
      " 15  travel_history_dates      758 non-null     object \n",
      " 16  travel_history_location   2421 non-null    object \n",
      " 17  reported_market_exposure  1128 non-null    object \n",
      " 18  additional_information    3989 non-null    object \n",
      " 19  chronic_disease_binary    440 non-null     object \n",
      " 20  chronic_disease           42 non-null      object \n",
      " 21  source                    108191 non-null  object \n",
      " 22  sequence_available        1111 non-null    object \n",
      " 23  outcome                   310 non-null     object \n",
      " 24  date_death_or_discharge   210 non-null     object \n",
      " 25  notes_for_discussion      297 non-null     object \n",
      " 26  location                  2430 non-null    object \n",
      " 27  admin3                    4226 non-null    object \n",
      " 28  admin2                    37749 non-null   object \n",
      " 29  admin1                    56065 non-null   object \n",
      " 30  country_new               63222 non-null   object \n",
      " 31  admin_id                  57416 non-null   object \n",
      " 32  data_moderator_initials   31582 non-null   object \n",
      " 33  travel_history_binary     601 non-null     float64\n",
      "dtypes: float64(4), object(30)\n",
      "memory usage: 30.5+ MB\n"
     ]
    }
   ],
   "source": [
    "df.info()"
   ]
  },
  {
   "cell_type": "code",
   "execution_count": 209,
   "metadata": {
    "scrolled": true
   },
   "outputs": [
    {
     "name": "stdout",
     "output_type": "stream",
     "text": [
      "<class 'pandas.core.indexes.base.Index'>\n",
      "Index([], dtype='object')\n"
     ]
    }
   ],
   "source": [
    "print(type(df.keys()))\n",
    "emp = pd.core.indexes.base.Index([])\n",
    "print(emp)"
   ]
  },
  {
   "cell_type": "code",
   "execution_count": 210,
   "metadata": {},
   "outputs": [
    {
     "name": "stdout",
     "output_type": "stream",
     "text": [
      "Index(['ID', 'age', 'sex', 'city', 'province', 'country',\n",
      "       'wuhan(0)_not_wuhan(1)', 'latitude', 'longitude', 'geo_resolution',\n",
      "       'date_onset_symptoms', 'date_admission_hospital', 'date_confirmation',\n",
      "       'symptoms', 'lives_in_Wuhan', 'travel_history_dates',\n",
      "       'travel_history_location', 'reported_market_exposure',\n",
      "       'additional_information', 'chronic_disease_binary', 'chronic_disease',\n",
      "       'source', 'sequence_available', 'outcome', 'date_death_or_discharge',\n",
      "       'notes_for_discussion', 'location', 'admin3', 'admin2', 'admin1',\n",
      "       'country_new', 'admin_id', 'data_moderator_initials',\n",
      "       'travel_history_binary'],\n",
      "      dtype='object')\n"
     ]
    }
   ],
   "source": [
    "print(df.keys())"
   ]
  },
  {
   "cell_type": "code",
   "execution_count": 225,
   "metadata": {},
   "outputs": [
    {
     "name": "stdout",
     "output_type": "stream",
     "text": [
      "<class 'pandas.core.frame.DataFrame'>\n",
      "Int64Index: 1044 entries, 1881 to 117770\n",
      "Data columns (total 33 columns):\n",
      " #   Column                    Non-Null Count  Dtype  \n",
      "---  ------                    --------------  -----  \n",
      " 0   ID                        1044 non-null   object \n",
      " 1   age                       321 non-null    object \n",
      " 2   sex                       305 non-null    object \n",
      " 3   city                      994 non-null    object \n",
      " 4   province                  1044 non-null   object \n",
      " 5   wuhan(0)_not_wuhan(1)     850 non-null    float64\n",
      " 6   latitude                  695 non-null    float64\n",
      " 7   longitude                 695 non-null    float64\n",
      " 8   geo_resolution            695 non-null    object \n",
      " 9   date_onset_symptoms       5 non-null      object \n",
      " 10  date_admission_hospital   16 non-null     object \n",
      " 11  date_confirmation         1044 non-null   object \n",
      " 12  symptoms                  8 non-null      object \n",
      " 13  lives_in_Wuhan            4 non-null      object \n",
      " 14  travel_history_dates      31 non-null     object \n",
      " 15  travel_history_location   205 non-null    object \n",
      " 16  reported_market_exposure  46 non-null     object \n",
      " 17  additional_information    87 non-null     object \n",
      " 18  chronic_disease_binary    54 non-null     object \n",
      " 19  chronic_disease           1 non-null      object \n",
      " 20  source                    950 non-null    object \n",
      " 21  sequence_available        86 non-null     object \n",
      " 22  outcome                   3 non-null      object \n",
      " 23  date_death_or_discharge   3 non-null      object \n",
      " 24  notes_for_discussion      1 non-null      object \n",
      " 25  location                  194 non-null    object \n",
      " 26  admin3                    20 non-null     object \n",
      " 27  admin2                    18 non-null     object \n",
      " 28  admin1                    237 non-null    object \n",
      " 29  country_new               237 non-null    object \n",
      " 30  admin_id                  431 non-null    object \n",
      " 31  data_moderator_initials   0 non-null      object \n",
      " 32  travel_history_binary     0 non-null      float64\n",
      "dtypes: float64(4), object(29)\n",
      "memory usage: 277.3+ KB\n"
     ]
    }
   ],
   "source": [
    "cols = df.keys().to_list()\n",
    "cols.remove('country')\n",
    "# print(df.iloc[np.where(df['country']=='Canada')])\n",
    "\n",
    "new_df = pd.DataFrame(df.iloc[np.where(df['country']=='Canada')], columns = cols)\n",
    "new_df.info()"
   ]
  },
  {
   "cell_type": "code",
   "execution_count": 212,
   "metadata": {
    "scrolled": true
   },
   "outputs": [
    {
     "name": "stdout",
     "output_type": "stream",
     "text": [
      "0         04.03.2020\n",
      "1         11.03.2020\n",
      "2                NaN\n",
      "3                NaN\n",
      "4                NaN\n",
      "             ...    \n",
      "117766    17.03.2020\n",
      "117767    17.03.2020\n",
      "117768    17.03.2020\n",
      "117769    17.03.2020\n",
      "117770    17.03.2020\n",
      "Name: date_confirmation, Length: 117771, dtype: object\n",
      "['01.02.2020', '01.03.2020', '02.02.2020', '02.03.2020', '03.02.2020', '03.03.2020', '04.02.2020', '04.03.2020', '05.02.2020', '05.03.2020', '05.03.2020 - 18.03.2020', '05.03.2020-06.03.2020', '06.01.2020', '06.02.2020', '06.03.2020', '06.03.2020 - 08.03.2020', '06.03.2020 - 09.03.2020', '06.03.2020 - 10.03.2020', '06.03.2020 - 12.03.2020', '06.03.2020-13.03.2020', '07.02.2020', '07.03.2020', '07.03.2020 - 09.03.2020', '07.03.2020 - 10.03.2020', '07.03.2020 - 13.03.2020', '07.03.2020 - 16.03.2020', '07.03.2020-09.03.2020', '08.02.2020', '08.03.2020', '09.02.2020', '09.03.2020', '10.02.2020', '10.03.2020', '10.03.2020 - 11.03.2020', '10.03.2020 - 12.03.2020', '10.03.2020-13.03.2020', '11.02.2020', '11.03.2020', '12.01.2020', '12.02.2020', '12.03.2020', '12.03.2020 - 13.03.2020', '12.03.2020-14.03.2020', '13.02.2020', '13.03.2020', '14.02.2020', '14.03.2020', '14.03.2020 - 15.03.2020', '14.03.2020 - 16.03.2020', '15.01.2020', '15.02.2020', '15.03.2020', '16.01.2020', '16.02.2020', '16.03.2020', '17.01.2020', '17.02.2020', '17.03.2020', '18.01.2020', '18.02.2020', '18.03.2020', '18.03.2020-19.03.2020', '19.01.2020', '19.02.2020', '19.03.2020', '20.01.2020', '20.02.2020', '20.03.2020', '21.01.2020', '21.02.2020', '21.03.2020', '22.01.2020', '22.02.2020', '22.03.2020', '23.01.2020', '23.02.2020', '23.03.2020', '24.01.2020', '24.02.2020', '24.03.2020', '25.01.2020', '25.02.2020', '25.02.2020 - 03.03.2020', '25.02.2020 - 26.02.2020', '25.03.2020', '26.01.2020', '26.02.2020', '27.01.2020', '27.02.2020', '28.01.2020', '28.02.2020', '29.01.2020', '29.02.2020', '30.01.2020', '31.01.2020']\n"
     ]
    }
   ],
   "source": [
    "print(df['date_confirmation'])\n",
    "a = df['date_confirmation'].unique()\n",
    "a = list(a)\n",
    "for el in a: \n",
    "    if isinstance(el, np.datetime64): \n",
    "        print(el)\n",
    "    if not isinstance(el, (str, np.datetime64, np.number)): \n",
    "        a.remove(el)\n",
    "a.sort()\n",
    "print(a)"
   ]
  },
  {
   "cell_type": "code",
   "execution_count": 193,
   "metadata": {
    "scrolled": true
   },
   "outputs": [
    {
     "name": "stdout",
     "output_type": "stream",
     "text": [
      "04.03.2020\n",
      "0     False\n",
      "1      True\n",
      "2     False\n",
      "3     False\n",
      "4     False\n",
      "5     False\n",
      "6     False\n",
      "7      True\n",
      "8      True\n",
      "9      True\n",
      "10     True\n",
      "11    False\n",
      "12    False\n",
      "13     True\n",
      "14    False\n",
      "15    False\n",
      "16    False\n",
      "17    False\n",
      "18    False\n",
      "19    False\n",
      "20    False\n",
      "21    False\n",
      "22    False\n",
      "23    False\n",
      "24    False\n",
      "25    False\n",
      "26    False\n",
      "27    False\n",
      "28    False\n",
      "29    False\n",
      "30    False\n",
      "31    False\n",
      "32    False\n",
      "33    False\n",
      "34    False\n",
      "35    False\n",
      "36    False\n",
      "37    False\n",
      "38    False\n",
      "39    False\n",
      "40    False\n",
      "41    False\n",
      "42    False\n",
      "43    False\n",
      "44    False\n",
      "45    False\n",
      "46    False\n",
      "47    False\n",
      "48    False\n",
      "49    False\n",
      "Name: date_confirmation, dtype: bool\n",
      "1     11.03.2020\n",
      "2            NaN\n",
      "3            NaN\n",
      "4            NaN\n",
      "5            NaN\n",
      "6     01.03.2020\n",
      "7     11.03.2020\n",
      "8     11.03.2020\n",
      "9     11.03.2020\n",
      "10    11.03.2020\n",
      "11    22.01.2020\n",
      "12    10.03.2020\n",
      "13    11.03.2020\n",
      "14    23.01.2020\n",
      "15    21.01.2020\n",
      "16    07.03.2020\n",
      "17    26.01.2020\n",
      "18    12.03.2020\n",
      "19    15.02.2020\n",
      "20    15.02.2020\n",
      "21    15.02.2020\n",
      "22    15.02.2020\n",
      "23    15.02.2020\n",
      "24    15.02.2020\n",
      "25    15.02.2020\n",
      "26    15.02.2020\n",
      "27    15.02.2020\n",
      "28    15.02.2020\n",
      "29    26.01.2020\n",
      "30    12.03.2020\n",
      "31    15.02.2020\n",
      "32    16.02.2020\n",
      "33    16.02.2020\n",
      "34    16.02.2020\n",
      "35    16.02.2020\n",
      "36    16.02.2020\n",
      "37    16.02.2020\n",
      "38    16.02.2020\n",
      "39    16.02.2020\n",
      "40    16.02.2020\n",
      "41    12.03.2020\n",
      "42    26.01.2020\n",
      "43    08.02.2020\n",
      "44    08.02.2020\n",
      "45    08.02.2020\n",
      "46    08.02.2020\n",
      "47    08.02.2020\n",
      "48    08.02.2020\n",
      "49    08.02.2020\n",
      "Name: date_confirmation, dtype: object\n"
     ]
    }
   ],
   "source": [
    "print(df['date_confirmation'].iloc[0])\n",
    "print(df['date_confirmation'].iloc[0:50] =='11.03.2020')\n",
    "print(df['date_confirmation'].iloc[1:50])"
   ]
  },
  {
   "cell_type": "code",
   "execution_count": 227,
   "metadata": {},
   "outputs": [],
   "source": [
    "class China_DF(object): \n",
    "    \n",
    "    import os \n",
    "    \n",
    "    LOCATION =  os.path.abspath('__file__').replace('__file__', '')\n",
    "    DATETIME_FORMAT = '%dd.%mm.%YY'\n",
    "    URL= 'https://raw.githubusercontent.com/beoutbreakprepared/nCoV2019/master/latest_data/latestdata.csv'\n",
    "    CSV_FILENAME = '{}_raw.csv'\n",
    "    \n",
    "    def __init__(self, url= URL):\n",
    "        self.url = url\n",
    "        if self.url is not None: \n",
    "            self.df = self.download_china_raw(url= self.url) \n",
    "        else: \n",
    "            df = pd.DataFrame()\n",
    "        self.columns = self.df.keys()\n",
    "        self.country_data = {}\n",
    "#         self.str_to_datetime(self)\n",
    "        \n",
    "    def download_china_raw(self, url= None):    \n",
    "        '''\n",
    "        download the raw csv file from github\n",
    "        '''\n",
    "        if url is None: \n",
    "            url = self.url\n",
    "        df = pd.read_csv(url, index_col= None, sep=',', error_bad_lines=True)\n",
    "        return df\n",
    "    \n",
    "    def get_column_value_types(self, column):\n",
    "        '''\n",
    "        For one column, get a list of occuring data values\n",
    "        e.g column = 'country' would return a list of all countries present in the dataframe\n",
    "        column: str type, the column to be scanned\n",
    "        '''\n",
    "        cd = df[column].unique()\n",
    "        cd = list(cd)\n",
    "        for el in cd: \n",
    "            if not isinstance(el, (str, np.datetime64, np.number)): \n",
    "                cd.remove(el)\n",
    "        cd.sort()\n",
    "        return cd\n",
    "    \n",
    "    def create_raw_csv(self, filename = None, country= 'all'): \n",
    "        '''\n",
    "        create csv file with raw data, either from the whole frame or a specific country\n",
    "        country: str type, country name to be parsed to csv\n",
    "        '''\n",
    "        if filename is None:\n",
    "            filename = China_DF.CSV_FILENAME.format(country)\n",
    "        path = China_DF.LOCATION + '\\\\' + filename\n",
    "        print(path)\n",
    "        if country == 'all':\n",
    "            self.df.to_csv(path_or_buf = path)\n",
    "        else: \n",
    "            if not country in self.country_data: \n",
    "                self.extract_country(country = country)\n",
    "            self.country_data[country].to_csv(path_or_buf = path)\n",
    "            \n",
    "    def extract_country(self, country ='China'):\n",
    "        '''\n",
    "        extract data from a single country and add it to the class dictionary\n",
    "        country: str type, needs to be present in the 'country' column of self.df\n",
    "        '''\n",
    "        countries = self.get_column_value_types('country')\n",
    "        if not country in countries: \n",
    "            raise Exception('{} not present in dataframe'.format(country))\n",
    "        elif country in self.country_data:\n",
    "            return\n",
    "        cols = self.columns.to_list()\n",
    "        cols.remove('country')\n",
    "        new_df = pd.DataFrame(df.iloc[np.where(df['country']== country)], columns = cols)\n",
    "        self.country_data[country] = new_df\n",
    "        return \n",
    "    \n",
    "    #not in a working state\n",
    "    def str_to_datetime(self, format = DATETIME_FORMAT, exclude = []): \n",
    "        '''\n",
    "        convert string valued dates for np.datetime64\n",
    "        '''\n",
    "        for column in self.df.keys():\n",
    "            if column in exclude: \n",
    "                continue\n",
    "            if 'date' in column: \n",
    "                df = self.df \n",
    "                self.df[column] = pd.to_datetime(df[column], format= format)"
   ]
  },
  {
   "cell_type": "code",
   "execution_count": 228,
   "metadata": {
    "scrolled": true
   },
   "outputs": [
    {
     "name": "stderr",
     "output_type": "stream",
     "text": [
      "C:\\ProgramData\\Anaconda3\\lib\\site-packages\\IPython\\core\\interactiveshell.py:3331: DtypeWarning: Columns (1,2,10,11,13,14,15,16,17,18,19,20,22,23,24,25,26,27,28,31,32) have mixed types.Specify dtype option on import or set low_memory=False.\n",
      "  exec(code_obj, self.user_global_ns, self.user_ns)\n"
     ]
    }
   ],
   "source": [
    "cdf = China_DF()"
   ]
  },
  {
   "cell_type": "code",
   "execution_count": 229,
   "metadata": {},
   "outputs": [
    {
     "name": "stdout",
     "output_type": "stream",
     "text": [
      "C:\\Users\\Marius Bild\\Desktop\\codevscovid19\\sources\\datasets_per_country\\china\\\\all_raw.csv\n",
      "C:\\Users\\Marius Bild\\Desktop\\codevscovid19\\sources\\datasets_per_country\\china\\\\China_raw.csv\n"
     ]
    }
   ],
   "source": [
    "cdf.create_raw_csv()\n",
    "cdf.create_raw_csv(country='China')"
   ]
  },
  {
   "cell_type": "code",
   "execution_count": 180,
   "metadata": {},
   "outputs": [
    {
     "name": "stdout",
     "output_type": "stream",
     "text": [
      "C:\\Users\\Marius Bild\\Desktop\\codevscovid19\\sources\\datasets_per_country\\china\\\n"
     ]
    }
   ],
   "source": [
    "import os\n",
    "print(os.path.abspath('__file__').replace('__file__', ''))"
   ]
  },
  {
   "cell_type": "code",
   "execution_count": null,
   "metadata": {},
   "outputs": [],
   "source": []
  }
 ],
 "metadata": {
  "kernelspec": {
   "display_name": "Python 3",
   "language": "python",
   "name": "python3"
  },
  "language_info": {
   "codemirror_mode": {
    "name": "ipython",
    "version": 3
   },
   "file_extension": ".py",
   "mimetype": "text/x-python",
   "name": "python",
   "nbconvert_exporter": "python",
   "pygments_lexer": "ipython3",
   "version": "3.7.6"
  }
 },
 "nbformat": 4,
 "nbformat_minor": 4
}
