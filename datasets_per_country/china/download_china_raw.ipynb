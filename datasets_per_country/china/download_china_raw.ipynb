{
 "cells": [
  {
   "cell_type": "code",
   "execution_count": 43,
   "metadata": {},
   "outputs": [],
   "source": [
    "import pandas as pd\n",
    "import numpy as np"
   ]
  },
  {
   "cell_type": "code",
   "execution_count": 15,
   "metadata": {},
   "outputs": [],
   "source": [
    "# github url\n",
    "url = 'https://raw.githubusercontent.com/beoutbreakprepared/nCoV2019/master/latest_data/latestdata.csv'"
   ]
  },
  {
   "cell_type": "code",
   "execution_count": 50,
   "metadata": {
    "scrolled": false
   },
   "outputs": [],
   "source": [
    "#read data, conf. date: col_index = 12, city: col_index = 3\n",
    "df = pd.read_csv(url, index_col= None,sep=',', error_bad_lines=True)"
   ]
  },
  {
   "cell_type": "code",
   "execution_count": 51,
   "metadata": {},
   "outputs": [
    {
     "name": "stdout",
     "output_type": "stream",
     "text": [
      "<class 'pandas.core.frame.DataFrame'>\n",
      "RangeIndex: 117771 entries, 0 to 117770\n",
      "Data columns (total 34 columns):\n",
      " #   Column                    Non-Null Count   Dtype  \n",
      "---  ------                    --------------   -----  \n",
      " 0   ID                        117771 non-null  object \n",
      " 1   age                       4210 non-null    object \n",
      " 2   sex                       4500 non-null    object \n",
      " 3   city                      53125 non-null   object \n",
      " 4   province                  108377 non-null  object \n",
      " 5   country                   117741 non-null  object \n",
      " 6   wuhan(0)_not_wuhan(1)     64744 non-null   float64\n",
      " 7   latitude                  114439 non-null  float64\n",
      " 8   longitude                 114439 non-null  float64\n",
      " 9   geo_resolution            114439 non-null  object \n",
      " 10  date_onset_symptoms       1078 non-null    object \n",
      " 11  date_admission_hospital   966 non-null     object \n",
      " 12  date_confirmation         116549 non-null  object \n",
      " 13  symptoms                  1048 non-null    object \n",
      " 14  lives_in_Wuhan            1894 non-null    object \n",
      " 15  travel_history_dates      758 non-null     object \n",
      " 16  travel_history_location   2421 non-null    object \n",
      " 17  reported_market_exposure  1128 non-null    object \n",
      " 18  additional_information    3989 non-null    object \n",
      " 19  chronic_disease_binary    440 non-null     object \n",
      " 20  chronic_disease           42 non-null      object \n",
      " 21  source                    108191 non-null  object \n",
      " 22  sequence_available        1111 non-null    object \n",
      " 23  outcome                   310 non-null     object \n",
      " 24  date_death_or_discharge   210 non-null     object \n",
      " 25  notes_for_discussion      297 non-null     object \n",
      " 26  location                  2430 non-null    object \n",
      " 27  admin3                    4226 non-null    object \n",
      " 28  admin2                    37749 non-null   object \n",
      " 29  admin1                    56065 non-null   object \n",
      " 30  country_new               63222 non-null   object \n",
      " 31  admin_id                  57416 non-null   object \n",
      " 32  data_moderator_initials   31582 non-null   object \n",
      " 33  travel_history_binary     601 non-null     float64\n",
      "dtypes: float64(4), object(30)\n",
      "memory usage: 30.5+ MB\n"
     ]
    }
   ],
   "source": [
    "df.info()"
   ]
  },
  {
   "cell_type": "code",
   "execution_count": 36,
   "metadata": {
    "scrolled": true
   },
   "outputs": [
    {
     "name": "stdout",
     "output_type": "stream",
     "text": [
      "Index(['ID', 'age', 'sex', 'city', 'province', 'country',\n",
      "       'wuhan(0)_not_wuhan(1)', 'latitude', 'longitude', 'geo_resolution',\n",
      "       'date_onset_symptoms', 'date_admission_hospital', 'symptoms',\n",
      "       'lives_in_Wuhan', 'travel_history_dates', 'travel_history_location',\n",
      "       'reported_market_exposure', 'additional_information',\n",
      "       'chronic_disease_binary', 'chronic_disease', 'source',\n",
      "       'sequence_available', 'outcome', 'date_death_or_discharge',\n",
      "       'notes_for_discussion', 'location', 'admin3', 'admin2', 'admin1',\n",
      "       'country_new', 'admin_id', 'data_moderator_initials',\n",
      "       'travel_history_binary'],\n",
      "      dtype='object')\n",
      "Jiujiang City\n"
     ]
    }
   ],
   "source": [
    "print(df.keys())\n",
    "print(df['city'].iloc[217])"
   ]
  },
  {
   "cell_type": "code",
   "execution_count": 59,
   "metadata": {},
   "outputs": [
    {
     "name": "stdout",
     "output_type": "stream",
     "text": [
      "0     04.03.2020;\n",
      "1     11.03.2020;\n",
      "2             NaN\n",
      "3             NaN\n",
      "4             NaN\n",
      "         ...     \n",
      "95    13.02.2020;\n",
      "96    13.02.2020;\n",
      "97    13.02.2020;\n",
      "98    13.02.2020;\n",
      "99    13.02.2020;\n",
      "Name: date_confirmation, Length: 100, dtype: object\n"
     ]
    }
   ],
   "source": [
    "print(df['date_confirmation'].iloc[0:100] + ';')"
   ]
  },
  {
   "cell_type": "code",
   "execution_count": 76,
   "metadata": {},
   "outputs": [
    {
     "name": "stdout",
     "output_type": "stream",
     "text": [
      "1     False\n",
      "2     False\n",
      "3     False\n",
      "4     False\n",
      "5     False\n",
      "6     False\n",
      "7     False\n",
      "8     False\n",
      "9     False\n",
      "10    False\n",
      "11    False\n",
      "12    False\n",
      "13    False\n",
      "14    False\n",
      "15    False\n",
      "16    False\n",
      "17    False\n",
      "18    False\n",
      "19    False\n",
      "20    False\n",
      "21    False\n",
      "22    False\n",
      "23    False\n",
      "24    False\n",
      "25    False\n",
      "26    False\n",
      "27    False\n",
      "28    False\n",
      "29    False\n",
      "30    False\n",
      "31    False\n",
      "32    False\n",
      "33    False\n",
      "34    False\n",
      "35    False\n",
      "36    False\n",
      "37    False\n",
      "38    False\n",
      "39    False\n",
      "40    False\n",
      "41    False\n",
      "42    False\n",
      "43    False\n",
      "44    False\n",
      "45    False\n",
      "46    False\n",
      "47    False\n",
      "48    False\n",
      "49    False\n",
      "Name: date_confirmation, dtype: bool\n",
      "1     11.03.2020\n",
      "2            NaN\n",
      "3            NaN\n",
      "4            NaN\n",
      "5            NaN\n",
      "6     01.03.2020\n",
      "7     11.03.2020\n",
      "8     11.03.2020\n",
      "9     11.03.2020\n",
      "10    11.03.2020\n",
      "11    22.01.2020\n",
      "12    10.03.2020\n",
      "13    11.03.2020\n",
      "14    23.01.2020\n",
      "15    21.01.2020\n",
      "16    07.03.2020\n",
      "17    26.01.2020\n",
      "18    12.03.2020\n",
      "19    15.02.2020\n",
      "20    15.02.2020\n",
      "21    15.02.2020\n",
      "22    15.02.2020\n",
      "23    15.02.2020\n",
      "24    15.02.2020\n",
      "25    15.02.2020\n",
      "26    15.02.2020\n",
      "27    15.02.2020\n",
      "28    15.02.2020\n",
      "29    26.01.2020\n",
      "30    12.03.2020\n",
      "31    15.02.2020\n",
      "32    16.02.2020\n",
      "33    16.02.2020\n",
      "34    16.02.2020\n",
      "35    16.02.2020\n",
      "36    16.02.2020\n",
      "37    16.02.2020\n",
      "38    16.02.2020\n",
      "39    16.02.2020\n",
      "40    16.02.2020\n",
      "41    12.03.2020\n",
      "42    26.01.2020\n",
      "43    08.02.2020\n",
      "44    08.02.2020\n",
      "45    08.02.2020\n",
      "46    08.02.2020\n",
      "47    08.02.2020\n",
      "48    08.02.2020\n",
      "49    08.02.2020\n",
      "Name: date_confirmation, dtype: object\n"
     ]
    }
   ],
   "source": [
    "print(df['date_confirmation'].iloc[1:50] =='04.03.2020')\n",
    "print(df['date_confirmation'].iloc[1:50].str.lower())"
   ]
  },
  {
   "cell_type": "code",
   "execution_count": null,
   "metadata": {},
   "outputs": [],
   "source": []
  }
 ],
 "metadata": {
  "kernelspec": {
   "display_name": "Python 3",
   "language": "python",
   "name": "python3"
  },
  "language_info": {
   "codemirror_mode": {
    "name": "ipython",
    "version": 3
   },
   "file_extension": ".py",
   "mimetype": "text/x-python",
   "name": "python",
   "nbconvert_exporter": "python",
   "pygments_lexer": "ipython3",
   "version": "3.7.6"
  }
 },
 "nbformat": 4,
 "nbformat_minor": 4
}
